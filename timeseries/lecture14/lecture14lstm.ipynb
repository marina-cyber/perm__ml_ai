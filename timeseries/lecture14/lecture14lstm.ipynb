{
 "cells": [
  {
   "cell_type": "code",
   "execution_count": 2,
   "metadata": {},
   "outputs": [
    {
     "name": "stdout",
     "output_type": "stream",
     "text": [
      "WARNING:tensorflow:From p:\\perm__ml_ai\\.venv\\lib\\site-packages\\keras\\src\\losses.py:2976: The name tf.losses.sparse_softmax_cross_entropy is deprecated. Please use tf.compat.v1.losses.sparse_softmax_cross_entropy instead.\n",
      "\n"
     ]
    }
   ],
   "source": [
    "# импорт всего, что нам понадобится\n",
    "import numpy as np\n",
    "from tensorflow.keras.models import Sequential\n",
    "from tensorflow.keras.layers import LSTM\n",
    "from tensorflow.keras.layers import Dense, Dropout\n",
    "import pandas as pd\n",
    "from matplotlib import pyplot as plt\n",
    "from sklearn.preprocessing import MinMaxScaler\n",
    "import seaborn as sns\n"
   ]
  },
  {
   "cell_type": "code",
   "execution_count": 3,
   "metadata": {},
   "outputs": [
    {
     "name": "stderr",
     "output_type": "stream",
     "text": [
      "C:\\Users\\Mi\\AppData\\Local\\Temp\\ipykernel_63872\\741455977.py:2: UserWarning: Could not infer format, so each element will be parsed individually, falling back to `dateutil`. To ensure parsing is consistent and as-expected, please specify a format.\n",
      "  df = pd.read_csv(\"data/AirQualityUCI.csv\", parse_dates=[['Date', 'Time']], sep = \";\",decimal =\",\")\n"
     ]
    }
   ],
   "source": [
    "# считываем данные\n",
    "df = pd.read_csv(\"data/AirQualityUCI.csv\", parse_dates=[['Date', 'Time']], sep = \";\",decimal =\",\")\n",
    "\n",
    "df['Date_Time'] = pd.to_datetime(df.Date_Time , format = '%d/%m/%Y %H.%M.%S')\n",
    "data = df.drop(['Date_Time'], axis=1)\n",
    "data.index = df.Date_Time"
   ]
  },
  {
   "cell_type": "code",
   "execution_count": 12,
   "metadata": {},
   "outputs": [
    {
     "name": "stderr",
     "output_type": "stream",
     "text": [
      "C:\\Users\\Mi\\AppData\\Local\\Temp\\ipykernel_63872\\346023607.py:8: FutureWarning: Setting an item of incompatible dtype is deprecated and will raise in a future error of pandas. Value '1.7' has dtype incompatible with int64, please explicitly cast to a compatible dtype first.\n",
      "  df.iloc[i,j] = df.iloc[i,j-1]\n",
      "C:\\Users\\Mi\\AppData\\Local\\Temp\\ipykernel_63872\\346023607.py:8: FutureWarning: Setting an item of incompatible dtype is deprecated and will raise in a future error of pandas. Value '1.2' has dtype incompatible with int64, please explicitly cast to a compatible dtype first.\n",
      "  df.iloc[i,j] = df.iloc[i,j-1]\n",
      "C:\\Users\\Mi\\AppData\\Local\\Temp\\ipykernel_63872\\346023607.py:8: FutureWarning: Setting an item of incompatible dtype is deprecated and will raise in a future error of pandas. Value '1.4' has dtype incompatible with int64, please explicitly cast to a compatible dtype first.\n",
      "  df.iloc[i,j] = df.iloc[i,j-1]\n"
     ]
    }
   ],
   "source": [
    "# заменяем отсутствующие значения (см предыдущий блокнот)\n",
    "df = data.copy()\n",
    "cols = df.columns\n",
    " \n",
    "for j in range(1,len(cols)):\n",
    "    for i in range(0,len(df.iloc[:,j])):\n",
    "       if df.iloc[i,j] == -200.0:\n",
    "           df.iloc[i,j] = df.iloc[i,j-1]\n"
   ]
  },
  {
   "cell_type": "code",
   "execution_count": 13,
   "metadata": {},
   "outputs": [
    {
     "data": {
      "text/html": [
       "<div>\n",
       "<style scoped>\n",
       "    .dataframe tbody tr th:only-of-type {\n",
       "        vertical-align: middle;\n",
       "    }\n",
       "\n",
       "    .dataframe tbody tr th {\n",
       "        vertical-align: top;\n",
       "    }\n",
       "\n",
       "    .dataframe thead th {\n",
       "        text-align: right;\n",
       "    }\n",
       "</style>\n",
       "<table border=\"1\" class=\"dataframe\">\n",
       "  <thead>\n",
       "    <tr style=\"text-align: right;\">\n",
       "      <th></th>\n",
       "      <th>CO(GT)</th>\n",
       "      <th>PT08.S1(CO)</th>\n",
       "      <th>NMHC(GT)</th>\n",
       "      <th>C6H6(GT)</th>\n",
       "      <th>PT08.S2(NMHC)</th>\n",
       "      <th>NOx(GT)</th>\n",
       "      <th>PT08.S3(NOx)</th>\n",
       "      <th>NO2(GT)</th>\n",
       "      <th>PT08.S4(NO2)</th>\n",
       "      <th>PT08.S5(O3)</th>\n",
       "      <th>T</th>\n",
       "      <th>RH</th>\n",
       "      <th>AH</th>\n",
       "    </tr>\n",
       "    <tr>\n",
       "      <th>Date_Time</th>\n",
       "      <th></th>\n",
       "      <th></th>\n",
       "      <th></th>\n",
       "      <th></th>\n",
       "      <th></th>\n",
       "      <th></th>\n",
       "      <th></th>\n",
       "      <th></th>\n",
       "      <th></th>\n",
       "      <th></th>\n",
       "      <th></th>\n",
       "      <th></th>\n",
       "      <th></th>\n",
       "    </tr>\n",
       "  </thead>\n",
       "  <tbody>\n",
       "    <tr>\n",
       "      <th>2004-03-10 18:00:00</th>\n",
       "      <td>2.6</td>\n",
       "      <td>1360.0</td>\n",
       "      <td>150.0</td>\n",
       "      <td>11.9</td>\n",
       "      <td>1046.0</td>\n",
       "      <td>166.0</td>\n",
       "      <td>1056.0</td>\n",
       "      <td>113.0</td>\n",
       "      <td>1692.0</td>\n",
       "      <td>1268.0</td>\n",
       "      <td>13.6</td>\n",
       "      <td>48.9</td>\n",
       "      <td>0.7578</td>\n",
       "    </tr>\n",
       "    <tr>\n",
       "      <th>2004-03-10 19:00:00</th>\n",
       "      <td>2.0</td>\n",
       "      <td>1292.0</td>\n",
       "      <td>112.0</td>\n",
       "      <td>9.4</td>\n",
       "      <td>955.0</td>\n",
       "      <td>103.0</td>\n",
       "      <td>1174.0</td>\n",
       "      <td>92.0</td>\n",
       "      <td>1559.0</td>\n",
       "      <td>972.0</td>\n",
       "      <td>13.3</td>\n",
       "      <td>47.7</td>\n",
       "      <td>0.7255</td>\n",
       "    </tr>\n",
       "    <tr>\n",
       "      <th>2004-03-10 20:00:00</th>\n",
       "      <td>2.2</td>\n",
       "      <td>1402.0</td>\n",
       "      <td>88.0</td>\n",
       "      <td>9.0</td>\n",
       "      <td>939.0</td>\n",
       "      <td>131.0</td>\n",
       "      <td>1140.0</td>\n",
       "      <td>114.0</td>\n",
       "      <td>1555.0</td>\n",
       "      <td>1074.0</td>\n",
       "      <td>11.9</td>\n",
       "      <td>54.0</td>\n",
       "      <td>0.7502</td>\n",
       "    </tr>\n",
       "    <tr>\n",
       "      <th>2004-03-10 21:00:00</th>\n",
       "      <td>2.2</td>\n",
       "      <td>1376.0</td>\n",
       "      <td>80.0</td>\n",
       "      <td>9.2</td>\n",
       "      <td>948.0</td>\n",
       "      <td>172.0</td>\n",
       "      <td>1092.0</td>\n",
       "      <td>122.0</td>\n",
       "      <td>1584.0</td>\n",
       "      <td>1203.0</td>\n",
       "      <td>11.0</td>\n",
       "      <td>60.0</td>\n",
       "      <td>0.7867</td>\n",
       "    </tr>\n",
       "    <tr>\n",
       "      <th>2004-03-10 22:00:00</th>\n",
       "      <td>1.6</td>\n",
       "      <td>1272.0</td>\n",
       "      <td>51.0</td>\n",
       "      <td>6.5</td>\n",
       "      <td>836.0</td>\n",
       "      <td>131.0</td>\n",
       "      <td>1205.0</td>\n",
       "      <td>116.0</td>\n",
       "      <td>1490.0</td>\n",
       "      <td>1110.0</td>\n",
       "      <td>11.2</td>\n",
       "      <td>59.6</td>\n",
       "      <td>0.7888</td>\n",
       "    </tr>\n",
       "  </tbody>\n",
       "</table>\n",
       "</div>"
      ],
      "text/plain": [
       "                     CO(GT)  PT08.S1(CO)  NMHC(GT)  C6H6(GT)  PT08.S2(NMHC)  \\\n",
       "Date_Time                                                                     \n",
       "2004-03-10 18:00:00     2.6       1360.0     150.0      11.9         1046.0   \n",
       "2004-03-10 19:00:00     2.0       1292.0     112.0       9.4          955.0   \n",
       "2004-03-10 20:00:00     2.2       1402.0      88.0       9.0          939.0   \n",
       "2004-03-10 21:00:00     2.2       1376.0      80.0       9.2          948.0   \n",
       "2004-03-10 22:00:00     1.6       1272.0      51.0       6.5          836.0   \n",
       "\n",
       "                     NOx(GT)  PT08.S3(NOx)  NO2(GT)  PT08.S4(NO2)  \\\n",
       "Date_Time                                                           \n",
       "2004-03-10 18:00:00    166.0        1056.0    113.0        1692.0   \n",
       "2004-03-10 19:00:00    103.0        1174.0     92.0        1559.0   \n",
       "2004-03-10 20:00:00    131.0        1140.0    114.0        1555.0   \n",
       "2004-03-10 21:00:00    172.0        1092.0    122.0        1584.0   \n",
       "2004-03-10 22:00:00    131.0        1205.0    116.0        1490.0   \n",
       "\n",
       "                     PT08.S5(O3)     T    RH      AH  \n",
       "Date_Time                                             \n",
       "2004-03-10 18:00:00       1268.0  13.6  48.9  0.7578  \n",
       "2004-03-10 19:00:00        972.0  13.3  47.7  0.7255  \n",
       "2004-03-10 20:00:00       1074.0  11.9  54.0  0.7502  \n",
       "2004-03-10 21:00:00       1203.0  11.0  60.0  0.7867  \n",
       "2004-03-10 22:00:00       1110.0  11.2  59.6  0.7888  "
      ]
     },
     "execution_count": 13,
     "metadata": {},
     "output_type": "execute_result"
    }
   ],
   "source": [
    "df.head()"
   ]
  },
  {
   "cell_type": "code",
   "execution_count": 14,
   "metadata": {},
   "outputs": [
    {
     "data": {
      "text/html": [
       "<div>\n",
       "<style scoped>\n",
       "    .dataframe tbody tr th:only-of-type {\n",
       "        vertical-align: middle;\n",
       "    }\n",
       "\n",
       "    .dataframe tbody tr th {\n",
       "        vertical-align: top;\n",
       "    }\n",
       "\n",
       "    .dataframe thead th {\n",
       "        text-align: right;\n",
       "    }\n",
       "</style>\n",
       "<table border=\"1\" class=\"dataframe\">\n",
       "  <thead>\n",
       "    <tr style=\"text-align: right;\">\n",
       "      <th></th>\n",
       "      <th>CO(GT)</th>\n",
       "      <th>PT08.S1(CO)</th>\n",
       "      <th>NMHC(GT)</th>\n",
       "      <th>C6H6(GT)</th>\n",
       "      <th>PT08.S2(NMHC)</th>\n",
       "      <th>NOx(GT)</th>\n",
       "      <th>PT08.S3(NOx)</th>\n",
       "      <th>NO2(GT)</th>\n",
       "      <th>PT08.S4(NO2)</th>\n",
       "      <th>PT08.S5(O3)</th>\n",
       "      <th>T</th>\n",
       "      <th>RH</th>\n",
       "      <th>AH</th>\n",
       "    </tr>\n",
       "    <tr>\n",
       "      <th>Date_Time</th>\n",
       "      <th></th>\n",
       "      <th></th>\n",
       "      <th></th>\n",
       "      <th></th>\n",
       "      <th></th>\n",
       "      <th></th>\n",
       "      <th></th>\n",
       "      <th></th>\n",
       "      <th></th>\n",
       "      <th></th>\n",
       "      <th></th>\n",
       "      <th></th>\n",
       "      <th></th>\n",
       "    </tr>\n",
       "  </thead>\n",
       "  <tbody>\n",
       "    <tr>\n",
       "      <th>2005-04-04 10:00:00</th>\n",
       "      <td>3.1</td>\n",
       "      <td>1314.0</td>\n",
       "      <td>1314.0</td>\n",
       "      <td>13.5</td>\n",
       "      <td>1101.0</td>\n",
       "      <td>472.0</td>\n",
       "      <td>539.0</td>\n",
       "      <td>190.0</td>\n",
       "      <td>1374.0</td>\n",
       "      <td>1729.0</td>\n",
       "      <td>21.9</td>\n",
       "      <td>29.3</td>\n",
       "      <td>0.7568</td>\n",
       "    </tr>\n",
       "    <tr>\n",
       "      <th>2005-04-04 11:00:00</th>\n",
       "      <td>2.4</td>\n",
       "      <td>1163.0</td>\n",
       "      <td>1163.0</td>\n",
       "      <td>11.4</td>\n",
       "      <td>1027.0</td>\n",
       "      <td>353.0</td>\n",
       "      <td>604.0</td>\n",
       "      <td>179.0</td>\n",
       "      <td>1264.0</td>\n",
       "      <td>1269.0</td>\n",
       "      <td>24.3</td>\n",
       "      <td>23.7</td>\n",
       "      <td>0.7119</td>\n",
       "    </tr>\n",
       "    <tr>\n",
       "      <th>2005-04-04 12:00:00</th>\n",
       "      <td>2.4</td>\n",
       "      <td>1142.0</td>\n",
       "      <td>1142.0</td>\n",
       "      <td>12.4</td>\n",
       "      <td>1063.0</td>\n",
       "      <td>293.0</td>\n",
       "      <td>603.0</td>\n",
       "      <td>175.0</td>\n",
       "      <td>1241.0</td>\n",
       "      <td>1092.0</td>\n",
       "      <td>26.9</td>\n",
       "      <td>18.3</td>\n",
       "      <td>0.6406</td>\n",
       "    </tr>\n",
       "    <tr>\n",
       "      <th>2005-04-04 13:00:00</th>\n",
       "      <td>2.1</td>\n",
       "      <td>1003.0</td>\n",
       "      <td>1003.0</td>\n",
       "      <td>9.5</td>\n",
       "      <td>961.0</td>\n",
       "      <td>235.0</td>\n",
       "      <td>702.0</td>\n",
       "      <td>156.0</td>\n",
       "      <td>1041.0</td>\n",
       "      <td>770.0</td>\n",
       "      <td>28.3</td>\n",
       "      <td>13.5</td>\n",
       "      <td>0.5139</td>\n",
       "    </tr>\n",
       "    <tr>\n",
       "      <th>2005-04-04 14:00:00</th>\n",
       "      <td>2.2</td>\n",
       "      <td>1071.0</td>\n",
       "      <td>1071.0</td>\n",
       "      <td>11.9</td>\n",
       "      <td>1047.0</td>\n",
       "      <td>265.0</td>\n",
       "      <td>654.0</td>\n",
       "      <td>168.0</td>\n",
       "      <td>1129.0</td>\n",
       "      <td>816.0</td>\n",
       "      <td>28.5</td>\n",
       "      <td>13.1</td>\n",
       "      <td>0.5028</td>\n",
       "    </tr>\n",
       "  </tbody>\n",
       "</table>\n",
       "</div>"
      ],
      "text/plain": [
       "                     CO(GT)  PT08.S1(CO)  NMHC(GT)  C6H6(GT)  PT08.S2(NMHC)  \\\n",
       "Date_Time                                                                     \n",
       "2005-04-04 10:00:00     3.1       1314.0    1314.0      13.5         1101.0   \n",
       "2005-04-04 11:00:00     2.4       1163.0    1163.0      11.4         1027.0   \n",
       "2005-04-04 12:00:00     2.4       1142.0    1142.0      12.4         1063.0   \n",
       "2005-04-04 13:00:00     2.1       1003.0    1003.0       9.5          961.0   \n",
       "2005-04-04 14:00:00     2.2       1071.0    1071.0      11.9         1047.0   \n",
       "\n",
       "                     NOx(GT)  PT08.S3(NOx)  NO2(GT)  PT08.S4(NO2)  \\\n",
       "Date_Time                                                           \n",
       "2005-04-04 10:00:00    472.0         539.0    190.0        1374.0   \n",
       "2005-04-04 11:00:00    353.0         604.0    179.0        1264.0   \n",
       "2005-04-04 12:00:00    293.0         603.0    175.0        1241.0   \n",
       "2005-04-04 13:00:00    235.0         702.0    156.0        1041.0   \n",
       "2005-04-04 14:00:00    265.0         654.0    168.0        1129.0   \n",
       "\n",
       "                     PT08.S5(O3)     T    RH      AH  \n",
       "Date_Time                                             \n",
       "2005-04-04 10:00:00       1729.0  21.9  29.3  0.7568  \n",
       "2005-04-04 11:00:00       1269.0  24.3  23.7  0.7119  \n",
       "2005-04-04 12:00:00       1092.0  26.9  18.3  0.6406  \n",
       "2005-04-04 13:00:00        770.0  28.3  13.5  0.5139  \n",
       "2005-04-04 14:00:00        816.0  28.5  13.1  0.5028  "
      ]
     },
     "execution_count": 14,
     "metadata": {},
     "output_type": "execute_result"
    }
   ],
   "source": [
    "df.tail()"
   ]
  },
  {
   "cell_type": "code",
   "execution_count": 15,
   "metadata": {},
   "outputs": [
    {
     "name": "stdout",
     "output_type": "stream",
     "text": [
      "None\n"
     ]
    }
   ],
   "source": [
    "print(df.index.freq)"
   ]
  },
  {
   "cell_type": "code",
   "execution_count": 16,
   "metadata": {},
   "outputs": [
    {
     "data": {
      "text/plain": [
       "(9357, 13)"
      ]
     },
     "execution_count": 16,
     "metadata": {},
     "output_type": "execute_result"
    }
   ],
   "source": [
    "df.shape"
   ]
  },
  {
   "cell_type": "code",
   "execution_count": 17,
   "metadata": {},
   "outputs": [
    {
     "data": {
      "text/plain": [
       "2339"
      ]
     },
     "execution_count": 17,
     "metadata": {},
     "output_type": "execute_result"
    }
   ],
   "source": [
    "# кол-во элементов для тестовой выборки\n",
    "test_split_number=round(len(df)*0.25)\n",
    "test_split_number"
   ]
  },
  {
   "cell_type": "code",
   "execution_count": 18,
   "metadata": {},
   "outputs": [
    {
     "name": "stdout",
     "output_type": "stream",
     "text": [
      "(7018, 13)\n",
      "(2339, 13)\n"
     ]
    }
   ],
   "source": [
    "# разбиваем на тест и трейн\n",
    "df_for_training=df[:-test_split_number]\n",
    "df_for_testing=df[-test_split_number:]\n",
    "\n",
    "\n",
    "print(df_for_training.shape)\n",
    "print(df_for_testing.shape)"
   ]
  },
  {
   "cell_type": "code",
   "execution_count": 19,
   "metadata": {},
   "outputs": [],
   "source": [
    "# когда данные смотрели, было видно, что они не нормированные. Нормируем.\n",
    "scaler = MinMaxScaler(feature_range=(0,1))\n",
    "df_for_training_scaled = scaler.fit_transform(df_for_training)"
   ]
  },
  {
   "cell_type": "code",
   "execution_count": 20,
   "metadata": {},
   "outputs": [
    {
     "data": {
      "text/plain": [
       "array([[0.95611137, 0.69642857, 0.15851449, ..., 0.46739606, 0.54463895,\n",
       "        0.43929497],\n",
       "       [0.95327985, 0.66607143, 0.14130435, ..., 0.46673961, 0.54201313,\n",
       "        0.43922429],\n",
       "       [0.95422369, 0.71517857, 0.13043478, ..., 0.46367615, 0.55579869,\n",
       "        0.43927834],\n",
       "       ...,\n",
       "       [0.        , 0.521875  , 0.52943841, ..., 0.4619256 , 0.58052516,\n",
       "        0.43951882],\n",
       "       [0.        , 0.50848214, 0.51585145, ..., 0.45995624, 0.58402626,\n",
       "        0.43945799],\n",
       "       [0.        , 0.51830357, 0.52581522, ..., 0.45842451, 0.59102845,\n",
       "        0.43946236]])"
      ]
     },
     "execution_count": 20,
     "metadata": {},
     "output_type": "execute_result"
    }
   ],
   "source": [
    "df_for_training_scaled"
   ]
  },
  {
   "cell_type": "code",
   "execution_count": 21,
   "metadata": {},
   "outputs": [
    {
     "data": {
      "text/plain": [
       "(7018, 13)"
      ]
     },
     "execution_count": 21,
     "metadata": {},
     "output_type": "execute_result"
    }
   ],
   "source": [
    "df_for_training_scaled.shape"
   ]
  },
  {
   "cell_type": "code",
   "execution_count": 22,
   "metadata": {},
   "outputs": [
    {
     "data": {
      "text/plain": [
       "(2339, 13)"
      ]
     },
     "execution_count": 22,
     "metadata": {},
     "output_type": "execute_result"
    }
   ],
   "source": [
    "df_for_testing_scaled=scaler.transform(df_for_testing)\n",
    "df_for_testing_scaled.shape"
   ]
  },
  {
   "cell_type": "code",
   "execution_count": 23,
   "metadata": {},
   "outputs": [],
   "source": [
    "def createXY(dataset,n_past):\n",
    "    dataX = []\n",
    "    dataY = []\n",
    "    for i in range(n_past, len(dataset)):\n",
    "            dataX.append(dataset[i - n_past:i, 0:dataset.shape[1]])\n",
    "            dataY.append(dataset[i,0])\n",
    "    return np.array(dataX),np.array(dataY) "
   ]
  },
  {
   "cell_type": "code",
   "execution_count": 26,
   "metadata": {},
   "outputs": [],
   "source": [
    "n_past = 50 # сколько точек будет предсказывать\n",
    "\n",
    "trainX,trainY=createXY(df_for_training_scaled,n_past)\n",
    "\n",
    "testX,testY=createXY(df_for_testing_scaled,n_past)"
   ]
  },
  {
   "cell_type": "code",
   "execution_count": 25,
   "metadata": {},
   "outputs": [
    {
     "data": {
      "text/plain": [
       "(6968, 50, 13)"
      ]
     },
     "execution_count": 25,
     "metadata": {},
     "output_type": "execute_result"
    }
   ],
   "source": [
    "trainX.shape"
   ]
  },
  {
   "cell_type": "code",
   "execution_count": 27,
   "metadata": {},
   "outputs": [
    {
     "data": {
      "text/plain": [
       "(2289, 50, 13)"
      ]
     },
     "execution_count": 27,
     "metadata": {},
     "output_type": "execute_result"
    }
   ],
   "source": [
    "testX.shape"
   ]
  },
  {
   "cell_type": "code",
   "execution_count": 30,
   "metadata": {},
   "outputs": [],
   "source": [
    "from scikeras.wrappers import KerasRegressor\n",
    "from sklearn.model_selection import GridSearchCV"
   ]
  },
  {
   "cell_type": "code",
   "execution_count": 61,
   "metadata": {},
   "outputs": [],
   "source": [
    "# собираем lstm-ку\n",
    "def build_model(optimizer=\"adam\", npas = n_past, icol = 13):\n",
    "    grid_model = Sequential()\n",
    "    grid_model.add(LSTM(20 + n_past,return_sequences=True,input_shape=(n_past,icol)))\n",
    "    grid_model.add(LSTM(20 + n_past))\n",
    "    grid_model.add(Dropout(0.2))\n",
    "    grid_model.add(Dense(1))\n",
    "\n",
    "    grid_model.compile(loss = 'mse',optimizer = optimizer)\n",
    "    return grid_model\n",
    "\n",
    "grid_model = KerasRegressor(model=build_model,verbose=1, fit__validation_data=(testX,testY))\n",
    "parameters = {'batch_size' : [16,20],\n",
    "              'epochs' : [8,10],\n",
    "              'optimizer' : ['adam','Adadelta'] }\n",
    "\n",
    "grid_search  = GridSearchCV(estimator = grid_model,\n",
    "                            param_grid = parameters,\n",
    "                            cv = 2)"
   ]
  },
  {
   "cell_type": "code",
   "execution_count": 62,
   "metadata": {},
   "outputs": [
    {
     "name": "stdout",
     "output_type": "stream",
     "text": [
      "Epoch 1/8\n",
      "218/218 [==============================] - 8s 26ms/step - loss: 0.0536 - val_loss: 0.0345\n",
      "Epoch 2/8\n",
      "218/218 [==============================] - 5s 25ms/step - loss: 0.0355 - val_loss: 0.0264\n",
      "Epoch 3/8\n",
      "218/218 [==============================] - 6s 25ms/step - loss: 0.0310 - val_loss: 0.0247\n",
      "Epoch 4/8\n",
      "218/218 [==============================] - 11s 50ms/step - loss: 0.0284 - val_loss: 0.0260\n",
      "Epoch 5/8\n",
      "218/218 [==============================] - 12s 53ms/step - loss: 0.0264 - val_loss: 0.0244\n",
      "Epoch 6/8\n",
      "218/218 [==============================] - 5s 25ms/step - loss: 0.0250 - val_loss: 0.0221\n",
      "Epoch 7/8\n",
      "218/218 [==============================] - 5s 23ms/step - loss: 0.0240 - val_loss: 0.0215\n",
      "Epoch 8/8\n",
      "218/218 [==============================] - 5s 25ms/step - loss: 0.0229 - val_loss: 0.0215\n",
      "218/218 [==============================] - 2s 8ms/step\n",
      "Epoch 1/8\n",
      "218/218 [==============================] - 8s 27ms/step - loss: 0.0579 - val_loss: 0.0333\n",
      "Epoch 2/8\n",
      "218/218 [==============================] - 5s 24ms/step - loss: 0.0402 - val_loss: 0.0278\n",
      "Epoch 3/8\n",
      "218/218 [==============================] - 5s 24ms/step - loss: 0.0355 - val_loss: 0.0242\n",
      "Epoch 4/8\n",
      "218/218 [==============================] - 10s 48ms/step - loss: 0.0306 - val_loss: 0.0287\n",
      "Epoch 5/8\n",
      "218/218 [==============================] - 6s 29ms/step - loss: 0.0268 - val_loss: 0.0227\n",
      "Epoch 6/8\n",
      "218/218 [==============================] - 5s 23ms/step - loss: 0.0243 - val_loss: 0.0259\n",
      "Epoch 7/8\n",
      "218/218 [==============================] - 6s 29ms/step - loss: 0.0241 - val_loss: 0.0222\n",
      "Epoch 8/8\n",
      "218/218 [==============================] - 7s 31ms/step - loss: 0.0236 - val_loss: 0.0224\n",
      "218/218 [==============================] - 2s 7ms/step\n",
      "Epoch 1/8\n",
      "218/218 [==============================] - 10s 34ms/step - loss: 0.0540 - val_loss: 0.0284\n",
      "Epoch 2/8\n",
      "218/218 [==============================] - 6s 28ms/step - loss: 0.0351 - val_loss: 0.0263\n",
      "Epoch 3/8\n",
      "218/218 [==============================] - 12s 53ms/step - loss: 0.0310 - val_loss: 0.0274\n",
      "Epoch 4/8\n",
      "218/218 [==============================] - 7s 33ms/step - loss: 0.0279 - val_loss: 0.0236\n",
      "Epoch 5/8\n",
      "218/218 [==============================] - 7s 33ms/step - loss: 0.0257 - val_loss: 0.0222\n",
      "Epoch 6/8\n",
      "218/218 [==============================] - 8s 35ms/step - loss: 0.0241 - val_loss: 0.0221\n",
      "Epoch 7/8\n",
      "218/218 [==============================] - 7s 33ms/step - loss: 0.0235 - val_loss: 0.0218\n",
      "Epoch 8/8\n",
      "218/218 [==============================] - 7s 34ms/step - loss: 0.0229 - val_loss: 0.0215\n",
      "218/218 [==============================] - 2s 8ms/step\n",
      "Epoch 1/8\n",
      "218/218 [==============================] - 9s 32ms/step - loss: 0.0657 - val_loss: 0.0389\n",
      "Epoch 2/8\n",
      "218/218 [==============================] - 9s 43ms/step - loss: 0.0414 - val_loss: 0.0271\n",
      "Epoch 3/8\n",
      "218/218 [==============================] - 13s 61ms/step - loss: 0.0364 - val_loss: 0.0271\n",
      "Epoch 4/8\n",
      "218/218 [==============================] - 13s 60ms/step - loss: 0.0331 - val_loss: 0.0251\n",
      "Epoch 5/8\n",
      "218/218 [==============================] - 14s 64ms/step - loss: 0.0279 - val_loss: 0.0224\n",
      "Epoch 6/8\n",
      "218/218 [==============================] - 13s 61ms/step - loss: 0.0258 - val_loss: 0.0234\n",
      "Epoch 7/8\n",
      "218/218 [==============================] - 13s 58ms/step - loss: 0.0246 - val_loss: 0.0293\n",
      "Epoch 8/8\n",
      "218/218 [==============================] - 12s 57ms/step - loss: 0.0238 - val_loss: 0.0226\n",
      "218/218 [==============================] - 5s 16ms/step\n",
      "Epoch 1/10\n",
      "218/218 [==============================] - 19s 62ms/step - loss: 0.0568 - val_loss: 0.0287\n",
      "Epoch 2/10\n",
      "218/218 [==============================] - 11s 51ms/step - loss: 0.0353 - val_loss: 0.0316\n",
      "Epoch 3/10\n",
      "218/218 [==============================] - 5s 22ms/step - loss: 0.0311 - val_loss: 0.0261\n",
      "Epoch 4/10\n",
      "218/218 [==============================] - 5s 25ms/step - loss: 0.0279 - val_loss: 0.0232\n",
      "Epoch 5/10\n",
      "218/218 [==============================] - 6s 28ms/step - loss: 0.0254 - val_loss: 0.0226\n",
      "Epoch 6/10\n",
      "218/218 [==============================] - 6s 28ms/step - loss: 0.0240 - val_loss: 0.0236\n",
      "Epoch 7/10\n",
      "218/218 [==============================] - 6s 26ms/step - loss: 0.0236 - val_loss: 0.0214\n",
      "Epoch 8/10\n",
      "218/218 [==============================] - 6s 26ms/step - loss: 0.0235 - val_loss: 0.0224\n",
      "Epoch 9/10\n",
      "218/218 [==============================] - 6s 28ms/step - loss: 0.0226 - val_loss: 0.0217\n",
      "Epoch 10/10\n",
      "218/218 [==============================] - 6s 26ms/step - loss: 0.0220 - val_loss: 0.0211\n",
      "218/218 [==============================] - 3s 11ms/step\n",
      "Epoch 1/10\n",
      "218/218 [==============================] - 9s 30ms/step - loss: 0.0595 - val_loss: 0.0322\n",
      "Epoch 2/10\n",
      "218/218 [==============================] - 6s 29ms/step - loss: 0.0422 - val_loss: 0.0268\n",
      "Epoch 3/10\n",
      "218/218 [==============================] - 8s 38ms/step - loss: 0.0366 - val_loss: 0.0257\n",
      "Epoch 4/10\n",
      "218/218 [==============================] - 12s 56ms/step - loss: 0.0327 - val_loss: 0.0250\n",
      "Epoch 5/10\n",
      "218/218 [==============================] - 5s 24ms/step - loss: 0.0278 - val_loss: 0.0220\n",
      "Epoch 6/10\n",
      "218/218 [==============================] - 6s 29ms/step - loss: 0.0254 - val_loss: 0.0246\n",
      "Epoch 7/10\n",
      "218/218 [==============================] - 12s 56ms/step - loss: 0.0241 - val_loss: 0.0235\n",
      "Epoch 8/10\n",
      "218/218 [==============================] - 13s 58ms/step - loss: 0.0244 - val_loss: 0.0221\n",
      "Epoch 9/10\n",
      "218/218 [==============================] - 11s 50ms/step - loss: 0.0232 - val_loss: 0.0218\n",
      "Epoch 10/10\n",
      "218/218 [==============================] - 6s 28ms/step - loss: 0.0231 - val_loss: 0.0218\n",
      "218/218 [==============================] - 2s 8ms/step\n",
      "Epoch 1/10\n",
      "218/218 [==============================] - 9s 29ms/step - loss: 0.0630 - val_loss: 0.0319\n",
      "Epoch 2/10\n",
      "218/218 [==============================] - 5s 25ms/step - loss: 0.0367 - val_loss: 0.0267\n",
      "Epoch 3/10\n",
      "218/218 [==============================] - 5s 23ms/step - loss: 0.0321 - val_loss: 0.0247\n",
      "Epoch 4/10\n",
      "218/218 [==============================] - 5s 24ms/step - loss: 0.0299 - val_loss: 0.0251\n",
      "Epoch 5/10\n",
      "218/218 [==============================] - 5s 24ms/step - loss: 0.0269 - val_loss: 0.0228\n",
      "Epoch 6/10\n",
      "218/218 [==============================] - 6s 27ms/step - loss: 0.0255 - val_loss: 0.0230\n",
      "Epoch 7/10\n",
      "218/218 [==============================] - 6s 26ms/step - loss: 0.0243 - val_loss: 0.0224\n",
      "Epoch 8/10\n",
      "218/218 [==============================] - 6s 28ms/step - loss: 0.0237 - val_loss: 0.0217\n",
      "Epoch 9/10\n",
      "218/218 [==============================] - 6s 27ms/step - loss: 0.0228 - val_loss: 0.0246\n",
      "Epoch 10/10\n",
      "218/218 [==============================] - 6s 27ms/step - loss: 0.0225 - val_loss: 0.0211\n",
      "218/218 [==============================] - 2s 8ms/step\n",
      "Epoch 1/10\n",
      "218/218 [==============================] - 9s 31ms/step - loss: 0.0617 - val_loss: 0.0290\n",
      "Epoch 2/10\n",
      "218/218 [==============================] - 7s 30ms/step - loss: 0.0404 - val_loss: 0.0263\n",
      "Epoch 3/10\n",
      "218/218 [==============================] - 6s 29ms/step - loss: 0.0361 - val_loss: 0.0352\n",
      "Epoch 4/10\n",
      "218/218 [==============================] - 7s 30ms/step - loss: 0.0316 - val_loss: 0.0231\n",
      "Epoch 5/10\n",
      "218/218 [==============================] - 6s 29ms/step - loss: 0.0259 - val_loss: 0.0233\n",
      "Epoch 6/10\n",
      "218/218 [==============================] - 6s 30ms/step - loss: 0.0247 - val_loss: 0.0230\n",
      "Epoch 7/10\n",
      "218/218 [==============================] - 7s 30ms/step - loss: 0.0247 - val_loss: 0.0223\n",
      "Epoch 8/10\n",
      "218/218 [==============================] - 6s 30ms/step - loss: 0.0239 - val_loss: 0.0250\n",
      "Epoch 9/10\n",
      "218/218 [==============================] - 7s 30ms/step - loss: 0.0231 - val_loss: 0.0255\n",
      "Epoch 10/10\n",
      "218/218 [==============================] - 7s 30ms/step - loss: 0.0238 - val_loss: 0.0220\n",
      "218/218 [==============================] - 3s 9ms/step\n",
      "Epoch 1/8\n",
      "175/175 [==============================] - 9s 36ms/step - loss: 0.0709 - val_loss: 0.0292\n",
      "Epoch 2/8\n",
      "175/175 [==============================] - 6s 33ms/step - loss: 0.0385 - val_loss: 0.0273\n",
      "Epoch 3/8\n",
      "175/175 [==============================] - 6s 34ms/step - loss: 0.0324 - val_loss: 0.0287\n",
      "Epoch 4/8\n",
      "175/175 [==============================] - 6s 35ms/step - loss: 0.0313 - val_loss: 0.0245\n",
      "Epoch 5/8\n",
      "175/175 [==============================] - 6s 37ms/step - loss: 0.0277 - val_loss: 0.0245\n",
      "Epoch 6/8\n",
      "175/175 [==============================] - 6s 36ms/step - loss: 0.0264 - val_loss: 0.0224\n",
      "Epoch 7/8\n",
      "175/175 [==============================] - 6s 37ms/step - loss: 0.0248 - val_loss: 0.0242\n",
      "Epoch 8/8\n",
      "175/175 [==============================] - 7s 37ms/step - loss: 0.0234 - val_loss: 0.0232\n",
      "175/175 [==============================] - 3s 13ms/step\n",
      "Epoch 1/8\n",
      "175/175 [==============================] - 7s 30ms/step - loss: 0.0645 - val_loss: 0.0341\n",
      "Epoch 2/8\n",
      "175/175 [==============================] - 5s 28ms/step - loss: 0.0419 - val_loss: 0.0268\n",
      "Epoch 3/8\n",
      "175/175 [==============================] - 5s 26ms/step - loss: 0.0367 - val_loss: 0.0267\n",
      "Epoch 4/8\n",
      "175/175 [==============================] - 5s 27ms/step - loss: 0.0330 - val_loss: 0.0257\n",
      "Epoch 5/8\n",
      "175/175 [==============================] - 5s 27ms/step - loss: 0.0274 - val_loss: 0.0224\n",
      "Epoch 6/8\n",
      "175/175 [==============================] - 4s 25ms/step - loss: 0.0267 - val_loss: 0.0226\n",
      "Epoch 7/8\n",
      "175/175 [==============================] - 5s 27ms/step - loss: 0.0248 - val_loss: 0.0227\n",
      "Epoch 8/8\n",
      "175/175 [==============================] - 5s 27ms/step - loss: 0.0245 - val_loss: 0.0229\n",
      "175/175 [==============================] - 2s 7ms/step\n",
      "Epoch 1/8\n",
      "175/175 [==============================] - 6s 26ms/step - loss: 0.0571 - val_loss: 0.0286\n",
      "Epoch 2/8\n",
      "175/175 [==============================] - 4s 25ms/step - loss: 0.0365 - val_loss: 0.0263\n",
      "Epoch 3/8\n",
      "175/175 [==============================] - 5s 26ms/step - loss: 0.0319 - val_loss: 0.0253\n",
      "Epoch 4/8\n",
      "175/175 [==============================] - 5s 29ms/step - loss: 0.0277 - val_loss: 0.0237\n",
      "Epoch 5/8\n",
      "175/175 [==============================] - 6s 32ms/step - loss: 0.0264 - val_loss: 0.0246\n",
      "Epoch 6/8\n",
      "175/175 [==============================] - 5s 29ms/step - loss: 0.0250 - val_loss: 0.0240\n",
      "Epoch 7/8\n",
      "175/175 [==============================] - 5s 29ms/step - loss: 0.0241 - val_loss: 0.0214\n",
      "Epoch 8/8\n",
      "175/175 [==============================] - 5s 30ms/step - loss: 0.0227 - val_loss: 0.0228\n",
      "175/175 [==============================] - 2s 10ms/step\n",
      "Epoch 1/8\n",
      "175/175 [==============================] - 8s 35ms/step - loss: 0.0652 - val_loss: 0.0300\n",
      "Epoch 2/8\n",
      "175/175 [==============================] - 5s 31ms/step - loss: 0.0421 - val_loss: 0.0303\n",
      "Epoch 3/8\n",
      "175/175 [==============================] - 6s 32ms/step - loss: 0.0382 - val_loss: 0.0272\n",
      "Epoch 4/8\n",
      "175/175 [==============================] - 6s 32ms/step - loss: 0.0330 - val_loss: 0.0263\n",
      "Epoch 5/8\n",
      "175/175 [==============================] - 9s 52ms/step - loss: 0.0293 - val_loss: 0.0224\n",
      "Epoch 6/8\n",
      "175/175 [==============================] - 9s 54ms/step - loss: 0.0264 - val_loss: 0.0224\n",
      "Epoch 7/8\n",
      "175/175 [==============================] - 11s 62ms/step - loss: 0.0246 - val_loss: 0.0290\n",
      "Epoch 8/8\n",
      "175/175 [==============================] - 11s 62ms/step - loss: 0.0246 - val_loss: 0.0260\n",
      "175/175 [==============================] - 5s 23ms/step\n",
      "Epoch 1/10\n",
      "175/175 [==============================] - 11s 53ms/step - loss: 0.0568 - val_loss: 0.0341\n",
      "Epoch 2/10\n",
      "175/175 [==============================] - 12s 71ms/step - loss: 0.0354 - val_loss: 0.0263\n",
      "Epoch 3/10\n",
      "175/175 [==============================] - 12s 69ms/step - loss: 0.0310 - val_loss: 0.0253\n",
      "Epoch 4/10\n",
      "175/175 [==============================] - 12s 71ms/step - loss: 0.0286 - val_loss: 0.0235\n",
      "Epoch 5/10\n",
      "175/175 [==============================] - 12s 69ms/step - loss: 0.0264 - val_loss: 0.0225\n",
      "Epoch 6/10\n",
      "175/175 [==============================] - 12s 71ms/step - loss: 0.0240 - val_loss: 0.0218\n",
      "Epoch 7/10\n",
      "175/175 [==============================] - 11s 63ms/step - loss: 0.0236 - val_loss: 0.0216\n",
      "Epoch 8/10\n",
      "175/175 [==============================] - 10s 55ms/step - loss: 0.0232 - val_loss: 0.0250\n",
      "Epoch 9/10\n",
      "175/175 [==============================] - 12s 70ms/step - loss: 0.0226 - val_loss: 0.0220\n",
      "Epoch 10/10\n",
      "175/175 [==============================] - 12s 70ms/step - loss: 0.0221 - val_loss: 0.0230\n",
      "175/175 [==============================] - 5s 23ms/step\n",
      "Epoch 1/10\n",
      "175/175 [==============================] - 19s 68ms/step - loss: 0.0741 - val_loss: 0.0331\n",
      "Epoch 2/10\n",
      "175/175 [==============================] - 12s 69ms/step - loss: 0.0450 - val_loss: 0.0336\n",
      "Epoch 3/10\n",
      "175/175 [==============================] - 12s 71ms/step - loss: 0.0385 - val_loss: 0.0255\n",
      "Epoch 4/10\n",
      "175/175 [==============================] - 12s 68ms/step - loss: 0.0346 - val_loss: 0.0238\n",
      "Epoch 5/10\n",
      "175/175 [==============================] - 12s 70ms/step - loss: 0.0291 - val_loss: 0.0219\n",
      "Epoch 6/10\n",
      "175/175 [==============================] - 12s 66ms/step - loss: 0.0257 - val_loss: 0.0237\n",
      "Epoch 7/10\n",
      "175/175 [==============================] - 10s 59ms/step - loss: 0.0240 - val_loss: 0.0227\n",
      "Epoch 8/10\n",
      "175/175 [==============================] - 12s 69ms/step - loss: 0.0241 - val_loss: 0.0276\n",
      "Epoch 9/10\n",
      "175/175 [==============================] - 12s 70ms/step - loss: 0.0244 - val_loss: 0.0235\n",
      "Epoch 10/10\n",
      "175/175 [==============================] - 12s 70ms/step - loss: 0.0235 - val_loss: 0.0224\n",
      "175/175 [==============================] - 6s 27ms/step\n",
      "Epoch 1/10\n",
      "175/175 [==============================] - 22s 81ms/step - loss: 0.0565 - val_loss: 0.0305\n",
      "Epoch 2/10\n",
      "175/175 [==============================] - 12s 70ms/step - loss: 0.0359 - val_loss: 0.0286\n",
      "Epoch 3/10\n",
      "175/175 [==============================] - 12s 70ms/step - loss: 0.0323 - val_loss: 0.0250\n",
      "Epoch 4/10\n",
      "175/175 [==============================] - 13s 73ms/step - loss: 0.0294 - val_loss: 0.0236\n",
      "Epoch 5/10\n",
      "175/175 [==============================] - 321s 2s/step - loss: 0.0266 - val_loss: 0.0253\n",
      "Epoch 6/10\n",
      "175/175 [==============================] - 8s 46ms/step - loss: 0.0248 - val_loss: 0.0258\n",
      "Epoch 7/10\n",
      "175/175 [==============================] - 5s 30ms/step - loss: 0.0242 - val_loss: 0.0217\n",
      "Epoch 8/10\n",
      "175/175 [==============================] - 5s 29ms/step - loss: 0.0242 - val_loss: 0.0219\n",
      "Epoch 9/10\n",
      "175/175 [==============================] - 5s 28ms/step - loss: 0.0228 - val_loss: 0.0213\n",
      "Epoch 10/10\n",
      "175/175 [==============================] - 5s 30ms/step - loss: 0.0224 - val_loss: 0.0220\n",
      "175/175 [==============================] - 2s 9ms/step\n",
      "Epoch 1/10\n",
      "175/175 [==============================] - 11s 51ms/step - loss: 0.0549 - val_loss: 0.0289\n",
      "Epoch 2/10\n",
      "175/175 [==============================] - 8s 44ms/step - loss: 0.0407 - val_loss: 0.0276\n",
      "Epoch 3/10\n",
      "175/175 [==============================] - 5s 28ms/step - loss: 0.0353 - val_loss: 0.0288\n",
      "Epoch 4/10\n",
      "175/175 [==============================] - 5s 28ms/step - loss: 0.0327 - val_loss: 0.0291\n",
      "Epoch 5/10\n",
      "175/175 [==============================] - 5s 27ms/step - loss: 0.0281 - val_loss: 0.0220\n",
      "Epoch 6/10\n",
      "175/175 [==============================] - 5s 28ms/step - loss: 0.0251 - val_loss: 0.0342\n",
      "Epoch 7/10\n",
      "175/175 [==============================] - 5s 27ms/step - loss: 0.0245 - val_loss: 0.0230\n",
      "Epoch 8/10\n",
      "175/175 [==============================] - 5s 29ms/step - loss: 0.0238 - val_loss: 0.0221\n",
      "Epoch 9/10\n",
      "175/175 [==============================] - 5s 28ms/step - loss: 0.0235 - val_loss: 0.0247\n",
      "Epoch 10/10\n",
      "175/175 [==============================] - 5s 27ms/step - loss: 0.0235 - val_loss: 0.0218\n",
      "175/175 [==============================] - 2s 7ms/step\n",
      "Epoch 1/8\n",
      "436/436 [==============================] - 12s 22ms/step - loss: 0.0517 - val_loss: 0.0266\n",
      "Epoch 2/8\n",
      "436/436 [==============================] - 10s 23ms/step - loss: 0.0331 - val_loss: 0.0226\n",
      "Epoch 3/8\n",
      "436/436 [==============================] - 10s 23ms/step - loss: 0.0266 - val_loss: 0.0238\n",
      "Epoch 4/8\n",
      "436/436 [==============================] - 11s 24ms/step - loss: 0.0244 - val_loss: 0.0252\n",
      "Epoch 5/8\n",
      "436/436 [==============================] - 10s 24ms/step - loss: 0.0234 - val_loss: 0.0232\n",
      "Epoch 6/8\n",
      "436/436 [==============================] - 11s 26ms/step - loss: 0.0233 - val_loss: 0.0225\n",
      "Epoch 7/8\n",
      "436/436 [==============================] - 11s 26ms/step - loss: 0.0226 - val_loss: 0.0210\n",
      "Epoch 8/8\n",
      "436/436 [==============================] - 13s 31ms/step - loss: 0.0225 - val_loss: 0.0218\n"
     ]
    }
   ],
   "source": [
    "# обучаем  и ищем новые параметры\n",
    "grid_search = grid_search.fit(trainX,trainY)"
   ]
  },
  {
   "cell_type": "code",
   "execution_count": 64,
   "metadata": {},
   "outputs": [
    {
     "data": {
      "text/plain": [
       "{'batch_size': 16, 'epochs': 8, 'optimizer': 'Adadelta'}"
      ]
     },
     "execution_count": 64,
     "metadata": {},
     "output_type": "execute_result"
    }
   ],
   "source": [
    "# смотрим, какие параметры были лучшими\n",
    "\n",
    "grid_search.best_params_"
   ]
  },
  {
   "cell_type": "code",
   "execution_count": 65,
   "metadata": {},
   "outputs": [
    {
     "data": {
      "text/plain": [
       "<function __main__.build_model(optimizer='adam', npas=50, icol=13)>"
      ]
     },
     "execution_count": 65,
     "metadata": {},
     "output_type": "execute_result"
    }
   ],
   "source": [
    "# заполняем лучшими параметрами\n",
    "my_model=grid_search.best_estimator_.model\n",
    "my_model"
   ]
  },
  {
   "cell_type": "code",
   "execution_count": 68,
   "metadata": {},
   "outputs": [
    {
     "name": "stdout",
     "output_type": "stream",
     "text": [
      "144/144 [==============================] - 2s 7ms/step\n",
      "prediction [0.06855839 0.05846428 0.07578931 ... 0.9689836  0.9695574  0.9596171 ] \n",
      "\n",
      "Prediction Shape (2289,)\n"
     ]
    }
   ],
   "source": [
    "# делаем предикт по лучшим гиперпараметрам\n",
    "\n",
    "prediction=grid_search.best_estimator_.predict(testX)\n",
    "\n",
    "print(f\"prediction {prediction} \\n\")\n",
    "print(f\"Prediction Shape {prediction.shape}\")"
   ]
  },
  {
   "cell_type": "code",
   "execution_count": 72,
   "metadata": {},
   "outputs": [
    {
     "ename": "ValueError",
     "evalue": "non-broadcastable output operand with shape (2289,1) doesn't match the broadcast shape (2289,13)",
     "output_type": "error",
     "traceback": [
      "\u001b[1;31m---------------------------------------------------------------------------\u001b[0m",
      "\u001b[1;31mValueError\u001b[0m                                Traceback (most recent call last)",
      "Cell \u001b[1;32mIn[72], line 3\u001b[0m\n\u001b[0;32m      1\u001b[0m \u001b[38;5;66;03m#  Теперь вспоминаем, что мы отмасщтабировали значения. Нужно вернуть все назад. Но прямо сделать не получится.\u001b[39;00m\n\u001b[0;32m      2\u001b[0m \u001b[38;5;66;03m# Следующий код вызовет ошибку, так как делали трансформацию на матрице, а засунуть пытаемся вектор:\u001b[39;00m\n\u001b[1;32m----> 3\u001b[0m \u001b[43mscaler\u001b[49m\u001b[38;5;241;43m.\u001b[39;49m\u001b[43minverse_transform\u001b[49m\u001b[43m(\u001b[49m\u001b[43mprediction\u001b[49m\u001b[38;5;241;43m.\u001b[39;49m\u001b[43mreshape\u001b[49m\u001b[43m(\u001b[49m\u001b[38;5;241;43m-\u001b[39;49m\u001b[38;5;241;43m1\u001b[39;49m\u001b[43m,\u001b[49m\u001b[43m \u001b[49m\u001b[38;5;241;43m1\u001b[39;49m\u001b[43m)\u001b[49m\u001b[43m)\u001b[49m\n",
      "File \u001b[1;32mp:\\perm__ml_ai\\.venv\\lib\\site-packages\\sklearn\\preprocessing\\_data.py:548\u001b[0m, in \u001b[0;36mMinMaxScaler.inverse_transform\u001b[1;34m(self, X)\u001b[0m\n\u001b[0;32m    542\u001b[0m check_is_fitted(\u001b[38;5;28mself\u001b[39m)\n\u001b[0;32m    544\u001b[0m X \u001b[38;5;241m=\u001b[39m check_array(\n\u001b[0;32m    545\u001b[0m     X, copy\u001b[38;5;241m=\u001b[39m\u001b[38;5;28mself\u001b[39m\u001b[38;5;241m.\u001b[39mcopy, dtype\u001b[38;5;241m=\u001b[39mFLOAT_DTYPES, force_all_finite\u001b[38;5;241m=\u001b[39m\u001b[38;5;124m\"\u001b[39m\u001b[38;5;124mallow-nan\u001b[39m\u001b[38;5;124m\"\u001b[39m\n\u001b[0;32m    546\u001b[0m )\n\u001b[1;32m--> 548\u001b[0m X \u001b[38;5;241m-\u001b[39m\u001b[38;5;241m=\u001b[39m \u001b[38;5;28mself\u001b[39m\u001b[38;5;241m.\u001b[39mmin_\n\u001b[0;32m    549\u001b[0m X \u001b[38;5;241m/\u001b[39m\u001b[38;5;241m=\u001b[39m \u001b[38;5;28mself\u001b[39m\u001b[38;5;241m.\u001b[39mscale_\n\u001b[0;32m    550\u001b[0m \u001b[38;5;28;01mreturn\u001b[39;00m X\n",
      "\u001b[1;31mValueError\u001b[0m: non-broadcastable output operand with shape (2289,1) doesn't match the broadcast shape (2289,13)"
     ]
    }
   ],
   "source": [
    "#  Теперь вспоминаем, что мы отмасщтабировали значения. Нужно вернуть все назад. Но прямо сделать не получится.\n",
    "# Следующий код вызовет ошибку, так как делали трансформацию на матрице, а засунуть пытаемся вектор:\n",
    "scaler.inverse_transform(prediction.reshape(-1, 1))"
   ]
  },
  {
   "cell_type": "code",
   "execution_count": 73,
   "metadata": {},
   "outputs": [
    {
     "data": {
      "text/plain": [
       "(2289, 13)"
      ]
     },
     "execution_count": 73,
     "metadata": {},
     "output_type": "execute_result"
    }
   ],
   "source": [
    "pred = prediction.reshape(-1, 1) # без этого никак\n",
    "\n",
    "prediction_copies_array = np.repeat(pred,13, axis=-1)  # обманываем систему\n",
    "prediction_copies_array.shape"
   ]
  },
  {
   "cell_type": "code",
   "execution_count": 76,
   "metadata": {},
   "outputs": [
    {
     "data": {
      "text/plain": [
       "array([-185.47249  , -187.61142  , -183.94025  , ...,    5.327623 ,\n",
       "          5.449214 ,    3.3428588], dtype=float32)"
      ]
     },
     "execution_count": 76,
     "metadata": {},
     "output_type": "execute_result"
    }
   ],
   "source": [
    "# теперь будет все норм\n",
    "cfs = len(df.columns)\n",
    "\n",
    "prediction=scaler.inverse_transform(np.reshape(prediction_copies_array,(len(prediction_copies_array),cfs)))[:,0]\n",
    "prediction"
   ]
  },
  {
   "cell_type": "code",
   "execution_count": 81,
   "metadata": {},
   "outputs": [
    {
     "data": {
      "text/plain": [
       "(2289, 13)"
      ]
     },
     "execution_count": 81,
     "metadata": {},
     "output_type": "execute_result"
    }
   ],
   "source": [
    "# тоже самое повторяем с истинными значениями\n",
    "original_copies_array = np.repeat(testY.reshape(-1, 1),cfs, axis=-1)\n",
    "original_copies_array.shape"
   ]
  },
  {
   "cell_type": "code",
   "execution_count": 83,
   "metadata": {},
   "outputs": [],
   "source": [
    "\n",
    "original=scaler.inverse_transform(np.reshape(original_copies_array,(len(testY),cfs)))[:,0]"
   ]
  },
  {
   "cell_type": "code",
   "execution_count": 84,
   "metadata": {},
   "outputs": [
    {
     "name": "stdout",
     "output_type": "stream",
     "text": [
      "Pred Values-- [-185.47249   -187.61142   -183.94025   ...    5.327623     5.449214\n",
      "    3.3428588]\n",
      "\n",
      "\n",
      "Original Values-- [-200.  -200.  -200.  ...    2.4    2.1    2.2]\n"
     ]
    }
   ],
   "source": [
    "print(f\"Pred Values-- {prediction}\\n\\n\")\n",
    "print(f\"Original Values-- {original}\")"
   ]
  },
  {
   "cell_type": "code",
   "execution_count": 85,
   "metadata": {},
   "outputs": [
    {
     "data": {
      "image/png": "[encoded data removed]",
      "text/plain": [
       "<Figure size 640x480 with 1 Axes>"
      ]
     },
     "metadata": {},
     "output_type": "display_data"
    }
   ],
   "source": [
    "plt.plot(original, color = 'red', label = 'Real  CO(GT)')\n",
    "plt.plot(pred, color = 'blue', label = 'Predicted CO(GT)')\n",
    "plt.title(' CO(GT)Prediction')\n",
    "plt.xlabel('Time')\n",
    "plt.ylabel(' CO(GT)')\n",
    "plt.legend()\n",
    "plt.show()"
   ]
  },
  {
   "cell_type": "code",
   "execution_count": null,
   "metadata": {},
   "outputs": [],
   "source": []
  },
  {
   "cell_type": "code",
   "execution_count": null,
   "metadata": {},
   "outputs": [],
   "source": []
  }
 ],
 "metadata": {
  "kernelspec": {
   "display_name": ".venv",
   "language": "python",
   "name": "python3"
  },
  "language_info": {
   "codemirror_mode": {
    "name": "ipython",
    "version": 3
   },
   "file_extension": ".py",
   "mimetype": "text/x-python",
   "name": "python",
   "nbconvert_exporter": "python",
   "pygments_lexer": "ipython3",
   "version": "3.10.10"
  }
 },
 "nbformat": 4,
 "nbformat_minor": 2
}
