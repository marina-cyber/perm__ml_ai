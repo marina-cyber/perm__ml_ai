{
 "cells": [
  {
   "cell_type": "code",
   "execution_count": 1,
   "source": [
    "import pandas as pd\n",
    "import matplotlib.pyplot  as plt\n",
    "import os"
   ],
   "outputs": [],
   "metadata": {
    "ExecuteTime": {
     "start_time": "2023-04-14T23:23:50.379744Z",
     "end_time": "2023-04-14T23:23:50.392624Z"
    }
   }
  },
  {
   "cell_type": "markdown",
   "source": [
    "### Подготовка данных для использования нейросетью"
   ],
   "metadata": {},
   "attachments": {}
  },
  {
   "cell_type": "code",
   "execution_count": 2,
   "source": [
    "dirname = os.path.join(os.path.abspath(os.curdir), 'data', 'underwork')\n",
    "\n",
    "raw_data = {\"3\":(), \"5\":(), \"8\":(), \"10\":(), \"14\":(), \"15\":()}\n",
    "for v in raw_data:\n",
    "    tsdf_c = pd.read_csv(os.path.join(os.sep, dirname, v, 'calm_p.csv'))\n",
    "    tsdf_w = pd.read_csv(os.path.join(os.sep, dirname, v,  'work_p.csv'))\n",
    "    tsdf_m = pd.read_csv(os.path.join(os.sep, dirname, v, 'meta_p.csv'))\n",
    "    raw_data[v] = (tsdf_c, tsdf_w, tsdf_m)"
   ],
   "outputs": [],
   "metadata": {
    "ExecuteTime": {
     "start_time": "2023-04-14T23:23:50.394056Z",
     "end_time": "2023-04-14T23:23:50.547322Z"
    }
   }
  },
  {
   "cell_type": "code",
   "execution_count": 3,
   "source": [
    "data = {\"3\":(), \"5\":(), \"8\":(), \"10\":(), \"14\":(), \"15\":()}\n",
    "\n",
    "for v in raw_data:\n",
    "    calm = raw_data[v][0]\n",
    "    work = raw_data[v][1]\n",
    "    sex = raw_data[v][2].iloc[0][\"values\"]\n",
    "    weight = raw_data[v][2].iloc[1][\"values\"]\n",
    "    height = raw_data[v][2].iloc[2][\"values\"]\n",
    "    calm[\"sex\"] = sex\n",
    "    calm[\"weight\"] = weight\n",
    "    calm[\"height\"] = height\n",
    "    calm[\"state\"] = 0\n",
    "    work[\"sex\"] = sex\n",
    "    work[\"weight\"] = weight\n",
    "    work[\"height\"] = height\n",
    "    work[\"state\"] = 1\n",
    "    data[v] = (calm, work)"
   ],
   "outputs": [],
   "metadata": {
    "ExecuteTime": {
     "start_time": "2023-04-14T23:23:50.552749Z",
     "end_time": "2023-04-14T23:23:50.561657Z"
    }
   }
  },
  {
   "cell_type": "code",
   "execution_count": 4,
   "source": [
    "validation = {\"25\":(), \"27\":()}\n",
    "for v in validation:\n",
    "    calm = pd.read_csv(os.path.join(os.sep, dirname, v, 'calm_p.csv'))\n",
    "    work = pd.read_csv(os.path.join(os.sep, dirname, v,  'work_p.csv'))\n",
    "    tsdf_m = pd.read_csv(os.path.join(os.sep, dirname, v, 'meta_p.csv'))\n",
    "    sex = tsdf_m.iloc[0][\"values\"]\n",
    "    weight = tsdf_m.iloc[1][\"values\"]\n",
    "    height = tsdf_m.iloc[2][\"values\"]\n",
    "    calm[\"sex\"] = sex\n",
    "    calm[\"weight\"] = weight\n",
    "    calm[\"height\"] = height\n",
    "    calm[\"state\"] = 0\n",
    "    work[\"sex\"] = sex\n",
    "    work[\"weight\"] = weight\n",
    "    work[\"height\"] = height\n",
    "    work[\"state\"] = 1\n",
    "    validation[v] = (calm, work)"
   ],
   "outputs": [],
   "metadata": {
    "ExecuteTime": {
     "start_time": "2023-04-14T23:23:50.565792Z",
     "end_time": "2023-04-14T23:23:50.656389Z"
    }
   }
  },
  {
   "cell_type": "markdown",
   "source": [
    "# LSTM"
   ],
   "metadata": {},
   "attachments": {}
  },
  {
   "cell_type": "markdown",
   "source": [
    "#### Нейронные сети\n",
    "\n",
    "Искусственная нейронная сеть представляет собой слоистую структуру из связанных\n",
    "нейронов, вдохновленную биологическими нейронными сетями. Это не один алгоритм,\n",
    "а комбинация различных алгоритмов, которая позволяет нам выполнять сложные\n",
    "операции с данными.\n",
    "\n",
    "#### Рекуррентные нейронные сети\n",
    "Рекуррентные нейронные сети (RNN) — это класс нейронных сетей, которые хороши\n",
    "для моделирования последовательных данных, таких как временные ряды или\n",
    "естественный язык, значения сенсоров в течении некоторого временного промежутка.\n",
    "В общем смысле, RNN применяются в моделировании языка (англ. Language Modelling)\n",
    "и генерация текста, распознавании речи, генерации описания к изображениям (не\n",
    "только текстового, но и по возможным другим параметрам) или маркировке видео\n",
    "(англ. Video Tagging)\n",
    "\n",
    "Подобно нейронным сетям с прямой связью (англ. Feedforward Neural Network, FNN)\n",
    "и CNN, рекуррентные нейронные сети используют обучающие данные для изменения\n",
    "своих весов. Основным отличием от других видов сетей является ''память'', суть\n",
    "которой в том, что в процессе обработки входной информации текущим слоем в RNN,\n",
    "используются входные параметры к некоторым предыдущим слоям сети (таким образом\n",
    "влияя на результат работы текущего слоя сети). В то время как традиционные\n",
    "глубокие нейронные сети предполагают, что входные и выходные данные слоев\n",
    "независимы друг от друга, выходы рекуррентных нейронных сетей зависят от\n",
    "предшествующих элементов внутри последовательности этих слоев. Хотя будущие\n",
    "преобразования также могут быть полезны для определения результата данной\n",
    "последовательности, однонаправленные рекуррентные нейронные сети не могут\n",
    "учитывать эти преобразования в своих прогнозах.\n",
    "\n",
    "Однако при использовании первых архитектур RNN возникала проблема потери\n",
    "способности связывать информацию из-за уменьшения аргументов слоев сети на\n",
    "текущий обрабатываемый слой при увеличении ''расстояния'' между слоем (то есть\n",
    "чем дальше слой $B$ от слоя $A$, тем меньше слой $A$ влияет на слой $B$). Время\n",
    "от времени значение градиента может становиться бесконечно малым, что\n",
    "препятствует обновлению значения веса. На практике была представлена реализация\n",
    "модификации рекуррентной нейросети, которая способна к обучению долговременным\n",
    "зависимостям. Название такого подкласса RNN \"--- сеть с долгой краткосрочной\n",
    "памятью (англ. Long Short-Term Memory, LSTM)."
   ],
   "metadata": {}
  },
  {
   "cell_type": "markdown",
   "source": [
    "![Виды ячеек разных сетей](pics/rnn-lstm.png \"Title\")\n",
    "\n",
    "![Легенда](pics/legend.png \"Title\")"
   ],
   "metadata": {},
   "attachments": {}
  },
  {
   "cell_type": "markdown",
   "source": [
    "#### LSTM\n",
    "\n",
    "Это особый вид рекуррентной нейронной сети, способной изучать долгосрочные\n",
    "зависимости в данных. Это достигается за счет того, что повторяющийся модуль\n",
    "модели имеет комбинацию четырех слоев, взаимодействующих друг с другом."
   ],
   "metadata": {},
   "attachments": {}
  },
  {
   "cell_type": "markdown",
   "source": [
    "На рисунке посередине изображены четыре слоя нейронной сети LSTM в желтых\n",
    "прямоугольниках ($\\sigma$, $\\tanh$), ввод через $x_t$ и состояние ячейки через\n",
    "$h_t$. Модуль LSTM имеет состояние ячейки и три шлюза, что дает им возможность\n",
    "выборочно изучать, отключать или сохранять информацию от каждого из модулей.\n",
    "Состояние ячейки в LSTM помогает информации проходить через единицы без\n",
    "изменения, позволяя только несколько линейных взаимодействий."
   ],
   "metadata": {},
   "attachments": {}
  },
  {
   "cell_type": "markdown",
   "source": [
    "Таким образом, для каждого элемента входной последовательности каждый $t$-ый слой\n",
    "LSTM модели осуществляет следующие вычисления:\n",
    "\n",
    "$$i_t = \\sigma(W_{ii} x_t + b_{ii} + W_{hi} h_{t - 1} + b_{hi}) ;$$\n",
    "$$f_t = \\sigma(W_{if} x_t + b_{if} + W_{hf} h_{t - 1} + b_{hf}) ;$$\n",
    "$$g_t = \\tanh(W_{ig} x_t + b_{ig} + W_{hg} h_{t - 1} + b_{hg}) ;$$\n",
    "$$o_t = \\sigma(W_{io} x_t + b_{io} + W_{ho} h_{t - 1} + b_{ho}) ;$$\n",
    "$$c_t = f_t \\odot c_{t - 1} + i_t \\odot g_t ;$$\n",
    "$$h_t = o_t \\odot \\tanh(c_t) ,$$\n",
    "\n",
    "где $h_t, c_t, x_t$ - скрытое состояние слоя модели, состояние клетки и\n",
    "входной параметр в момент времени $t$ соответственно; $h_{t - 1}$ определяет\n",
    "скрытое состояние слоя в момент времени $t - 1$ или начальное скрытое состояние\n",
    "в момент времени $o$. Элементы $i_t, f_t, g_t, o_t$ являются входными,\n",
    "забывающими, клеточными и выходными воротами соответственно. Символ $\\sigma$\n",
    "определяет функцию сигмоиды, $\\odot$ - поэлементное произведение, также\n",
    "называемое произведением Адамара."
   ],
   "metadata": {},
   "attachments": {}
  },
  {
   "cell_type": "markdown",
   "source": [],
   "metadata": {}
  },
  {
   "cell_type": "markdown",
   "source": [
    "#### Функция по разделению набора данных на обучающую и тестовую выборки"
   ],
   "metadata": {},
   "attachments": {}
  },
  {
   "cell_type": "code",
   "execution_count": 5,
   "source": [
    "def data_split(ts, param=\"1\", train_percentage=0.67):\n",
    "    timeseries = ts[[\"1\"]].values.astype('float32')\n",
    "    train_size = int(len(timeseries) * train_percentage)\n",
    "    train, test = timeseries[:train_size], timeseries[train_size:]\n",
    "    return train, test, timeseries"
   ],
   "outputs": [],
   "metadata": {
    "ExecuteTime": {
     "start_time": "2023-04-14T23:23:50.659469Z",
     "end_time": "2023-04-14T23:23:50.671929Z"
    }
   }
  },
  {
   "cell_type": "markdown",
   "source": [
    "#### Функция по преобразованию выборки в тензорный вид (необходимый для использования нейросетью)"
   ],
   "metadata": {},
   "attachments": {}
  },
  {
   "cell_type": "code",
   "execution_count": 6,
   "source": [
    "import torch\n",
    " \n",
    "def create_dataset(dataset, lookback):\n",
    "    \"\"\"Transform a time series into a prediction dataset\n",
    "    \n",
    "    Args:\n",
    "        dataset: A numpy array of time series, first dimension is the time steps\n",
    "        lookback: Size of window for prediction\n",
    "    \"\"\"\n",
    "    X, y = [], []\n",
    "    for i in range(len(dataset)-lookback):\n",
    "        feature = dataset[i:i+lookback]\n",
    "        target = dataset[i+1:i+lookback+1]\n",
    "        X.append(feature)\n",
    "        y.append(target)\n",
    "    return torch.tensor(X), torch.tensor(y)"
   ],
   "outputs": [],
   "metadata": {
    "ExecuteTime": {
     "start_time": "2023-04-14T23:23:50.674209Z",
     "end_time": "2023-04-14T23:23:53.157544Z"
    }
   }
  },
  {
   "cell_type": "markdown",
   "source": [
    "#### С помощью класса описывается базовая нейросеть LSTM\n",
    "(возможно усложнение архиктуры в целях повышения качества)"
   ],
   "metadata": {},
   "attachments": {}
  },
  {
   "cell_type": "code",
   "execution_count": 7,
   "source": [
    "import torch.nn as nn\n",
    " \n",
    "class AirModel(nn.Module):\n",
    "    def __init__(self):\n",
    "        super().__init__()\n",
    "        self.lstm = nn.LSTM(input_size=1, hidden_size=50, num_layers=1, batch_first=True)\n",
    "        self.linear = nn.Linear(50, 1)\n",
    "    def forward(self, x):\n",
    "        x, _ = self.lstm(x)\n",
    "        x = self.linear(x)\n",
    "        return x"
   ],
   "outputs": [],
   "metadata": {
    "ExecuteTime": {
     "start_time": "2023-04-14T23:23:53.158123Z",
     "end_time": "2023-04-14T23:23:53.173161Z"
    }
   }
  },
  {
   "cell_type": "markdown",
   "source": [
    "#### Создается объект выборки, затем делится на тренировочную и тестовую с помощью функций, описанных выше"
   ],
   "metadata": {},
   "attachments": {}
  },
  {
   "cell_type": "code",
   "execution_count": 8,
   "source": [
    "ts = pd.DataFrame()\n",
    "\n",
    "for v in data:\n",
    "   calm = data[v][0]\n",
    "   work = data[v][1]\n",
    "   ts = pd.concat([ts, calm, work], sort=False, axis=0)\n",
    "print(ts.shape[0])\n",
    "\n",
    "\n",
    "train, test, total = data_split(ts)\n",
    "lookback = 1\n",
    "X_train, y_train = create_dataset(train, lookback=lookback)\n",
    "X_test, y_test = create_dataset(test, lookback=lookback)"
   ],
   "outputs": [
    {
     "name": "stdout",
     "output_type": "stream",
     "text": [
      "220000\n"
     ]
    },
    {
     "name": "stderr",
     "output_type": "stream",
     "text": [
      "C:\\Users\\Mi\\AppData\\Local\\Temp\\ipykernel_26720\\408042385.py:16: UserWarning: Creating a tensor from a list of numpy.ndarrays is extremely slow. Please consider converting the list to a single numpy.ndarray with numpy.array() before converting to a tensor. (Triggered internally at ..\\torch\\csrc\\utils\\tensor_new.cpp:233.)\n",
      "  return torch.tensor(X), torch.tensor(y)\n"
     ]
    }
   ],
   "metadata": {
    "ExecuteTime": {
     "start_time": "2023-04-14T23:23:53.176454Z",
     "end_time": "2023-04-14T23:23:53.642432Z"
    }
   }
  },
  {
   "cell_type": "markdown",
   "source": [
    "#### Создается объект нейросети, оптимизатора, функции потерь и объекта загрузчика.\n",
    "Данные объекты необходимы для осуществления обучения нейросети с помощью\n",
    "библиотеки pytorch.\n",
    "\n",
    "Указывается также количество эпох для обучения (итераций)"
   ],
   "metadata": {},
   "attachments": {}
  },
  {
   "cell_type": "code",
   "execution_count": 9,
   "source": [
    "import numpy as np\n",
    "import torch.optim as optim\n",
    "import torch.utils.data as torch_data\n",
    " \n",
    "model = AirModel()\n",
    "optimizer = optim.Adam(model.parameters())\n",
    "loss_fn = nn.MSELoss()\n",
    "loader = torch_data.DataLoader(torch_data.TensorDataset(X_train, y_train), shuffle=True, batch_size=8)\n",
    "\n",
    "EPOCHS = 20"
   ],
   "outputs": [],
   "metadata": {
    "ExecuteTime": {
     "start_time": "2023-04-14T23:23:53.644701Z",
     "end_time": "2023-04-14T23:23:53.683348Z"
    }
   }
  },
  {
   "cell_type": "markdown",
   "source": [
    "Описывается функция для обучения"
   ],
   "metadata": {},
   "attachments": {}
  },
  {
   "cell_type": "code",
   "execution_count": 10,
   "source": [
    "def train_model(model, X_train, X_test, y_train, y_test, n_epochs):\n",
    "    y_pred_train = None\n",
    "    y_pred_test = None\n",
    "\n",
    "    for epoch in range(n_epochs):\n",
    "        model.train()\n",
    "        for X_batch, y_batch in loader:\n",
    "            y_pred = model(X_batch)\n",
    "            loss = loss_fn(y_pred, y_batch)\n",
    "            optimizer.zero_grad()\n",
    "            loss.backward()\n",
    "            optimizer.step()\n",
    "        # Validation\n",
    "        if epoch % 10 != 0:\n",
    "            continue\n",
    "        model.eval()\n",
    "        with torch.no_grad():\n",
    "            y_pred = model(X_train)\n",
    "            y_pred_train = y_pred\n",
    "            train_rmse = np.sqrt(loss_fn(y_pred, y_train))\n",
    "            y_pred = model(X_test)\n",
    "            y_pred_test = y_pred\n",
    "            test_rmse = np.sqrt(loss_fn(y_pred, y_test))\n",
    "        print(\"Epoch %d: train RMSE %.4f, test RMSE %.4f\" % (epoch, train_rmse, test_rmse))\n",
    "    return y_pred_train, y_pred_test, model"
   ],
   "outputs": [],
   "metadata": {
    "ExecuteTime": {
     "start_time": "2023-04-14T23:23:53.673320Z",
     "end_time": "2023-04-14T23:23:53.695808Z"
    }
   }
  },
  {
   "cell_type": "markdown",
   "source": [
    "#### Запуск обучения нейросети"
   ],
   "metadata": {},
   "attachments": {}
  },
  {
   "cell_type": "code",
   "execution_count": 11,
   "source": [
    "y_pred_train, y_pred_test, model = train_model(model, X_train, X_test, y_train, y_test, EPOCHS)"
   ],
   "outputs": [
    {
     "name": "stdout",
     "output_type": "stream",
     "text": [
      "Epoch 0: train RMSE 0.0064, test RMSE 0.0064\n",
      "Epoch 10: train RMSE 0.0050, test RMSE 0.0061\n"
     ]
    }
   ],
   "metadata": {
    "ExecuteTime": {
     "start_time": "2023-04-14T23:23:53.688811Z",
     "end_time": "2023-04-14T23:29:17.914821Z"
    }
   }
  },
  {
   "cell_type": "markdown",
   "source": [
    "Сохранение обученной сети"
   ],
   "metadata": {},
   "attachments": {}
  },
  {
   "cell_type": "code",
   "execution_count": 12,
   "source": [
    "torch.save(model, f\"./lstm_forecast_{EPOCHS}_epochs.pth\")"
   ],
   "outputs": [],
   "metadata": {
    "ExecuteTime": {
     "start_time": "2023-04-14T23:29:17.918849Z",
     "end_time": "2023-04-14T23:29:17.996768Z"
    }
   }
  },
  {
   "cell_type": "markdown",
   "source": [
    "### Пример подсчета метрик и построения графика "
   ],
   "metadata": {},
   "attachments": {}
  },
  {
   "cell_type": "code",
   "execution_count": 13,
   "source": [
    "import numpy as np\n",
    "from sklearn.metrics import (mean_absolute_error, mean_squared_error,\n",
    "                            r2_score)\n",
    "from math import sqrt\n",
    "\n",
    "def mean_absolute_percentage_error(y_true, y_pred):\n",
    "    return np.mean(np.abs((y_true - y_pred) / y_true)) * 100\n",
    "\n",
    "def validate(true, pred):\n",
    "    true = pd.DataFrame(true.flatten().numpy())[0]\n",
    "    pred = pd.DataFrame(pred.flatten().numpy())[0]\n",
    "    print(\"MSE:\", mean_squared_error(true, pred))\n",
    "    print(\"RMSE:\", sqrt(mean_squared_error(true, pred)))\n",
    "    print(\"MAE:\", mean_absolute_error(true, pred))\n",
    "    print(\"MAPE:\", mean_absolute_percentage_error(true, pred))\n",
    "    print(\"R2:\", r2_score(true, pred))"
   ],
   "outputs": [],
   "metadata": {
    "ExecuteTime": {
     "start_time": "2023-04-14T23:29:17.956481Z",
     "end_time": "2023-04-14T23:29:18.571684Z"
    }
   }
  },
  {
   "cell_type": "code",
   "execution_count": 14,
   "source": [
    "def plot_train_n_pred(X_train, X_test, total, model):\n",
    "    with torch.no_grad():\n",
    "    # shift train predictions for plotting\n",
    "        train_plot = np.ones_like(total) * np.nan\n",
    "        y_pred = model(X_train)\n",
    "        y_pred = y_pred[:, -1, :]\n",
    "        train_size = len(X_train)\n",
    "        train_plot[lookback:train_size + 1] = model(X_train)[:, -1, :]\n",
    "        # shift test predictions for plotting\n",
    "        test_plot = np.ones_like(total) * np.nan\n",
    "        test_plot[train_size + lookback:len(total) - 1] = model(X_test)[:, -1, :]\n",
    "\n",
    "    plt.rcParams[\"figure.figsize\"] = [12, 7]\n",
    "    plt.plot(total, c='b')\n",
    "    plt.plot(train_plot, c='r')\n",
    "    plt.plot(test_plot, c='g')\n",
    "    plt.show()"
   ],
   "outputs": [],
   "metadata": {
    "ExecuteTime": {
     "start_time": "2023-04-14T23:29:18.573574Z",
     "end_time": "2023-04-14T23:29:18.584951Z"
    }
   }
  },
  {
   "cell_type": "code",
   "execution_count": 15,
   "source": [
    "def validate_on_new_users(model):\n",
    "    for v in validation:\n",
    "        calm = validation[v][0]\n",
    "        work = validation[v][1]\n",
    "        valid = pd.concat([calm, work], sort=False, axis=0)\n",
    "        valid_train, valid_test, valid_total = data_split(valid)\n",
    "        \n",
    "        lookback = 1\n",
    "        X_train, _ = create_dataset(valid_train, lookback=lookback)\n",
    "        X_test, y_test = create_dataset(valid_test, lookback=lookback)\n",
    "\n",
    "        y_pred = model(X_test)\n",
    "        y_pred_test = y_pred\n",
    "        \n",
    "        print(f\"Метрики для пациента {v}:\")\n",
    "        try:\n",
    "            validate(y_pred_test, y_test)\n",
    "        except:\n",
    "            validate(y_pred_test.detach(), y_test.detach())\n",
    "        plot_train_n_pred(X_train, X_test, valid_total, model)"
   ],
   "outputs": [],
   "metadata": {
    "ExecuteTime": {
     "start_time": "2023-04-14T23:29:18.591985Z",
     "end_time": "2023-04-14T23:29:18.654636Z"
    }
   }
  },
  {
   "cell_type": "markdown",
   "source": [
    "Вывод значений метрик, а также построение графика"
   ],
   "metadata": {},
   "attachments": {}
  },
  {
   "cell_type": "code",
   "execution_count": 16,
   "source": [
    "validate_on_new_users(model)"
   ],
   "outputs": [
    {
     "name": "stdout",
     "output_type": "stream",
     "text": [
      "Метрики для пациента 25:\n",
      "MSE: 1.4986564e-05\n",
      "RMSE: 0.003871248333010792\n",
      "MAE: 0.0022872947\n",
      "MAPE: 0.17272747354581952\n",
      "R2: 0.995068174574753\n"
     ]
    },
    {
     "data": {
      "text/plain": "<Figure size 1200x700 with 1 Axes>",
      "image/png": "[encoded data removed]"
     },
     "metadata": {},
     "output_type": "display_data"
    }
   ],
   "metadata": {
    "ExecuteTime": {
     "start_time": "2023-04-14T23:29:18.610098Z",
     "end_time": "2023-04-14T23:29:20.277839Z"
    }
   }
  },
  {
   "cell_type": "code",
   "execution_count": 16,
   "source": [],
   "outputs": [],
   "metadata": {
    "ExecuteTime": {
     "start_time": "2023-04-14T23:29:20.280822Z",
     "end_time": "2023-04-14T23:29:20.292821Z"
    }
   }
  }
 ],
 "metadata": {
  "kernelspec": {
   "name": "python3",
   "language": "python",
   "display_name": "Python 3 (ipykernel)"
  },
  "language_info": {
   "name": "python",
   "version": "3.10.9",
   "mimetype": "text/x-python",
   "codemirror_mode": {
    "name": "ipython",
    "version": 3
   },
   "pygments_lexer": "ipython3",
   "nbconvert_exporter": "python",
   "file_extension": ".py"
  },
  "orig_nbformat": 4,
  "interpreter": {
   "hash": "e7370f93d1d0cde622a1f8e1c04877d8463912d04d973331ad4851f04de6915a"
  }
 },
 "nbformat": 4,
 "nbformat_minor": 2
}
