{
 "cells": [
  {
   "cell_type": "markdown",
   "metadata": {},
   "source": [
    "# Работа с файлами"
   ]
  },
  {
   "cell_type": "markdown",
   "metadata": {},
   "source": [
    "Чтобы открыть файл, необходимо применить функцию ```open```"
   ]
  },
  {
   "cell_type": "code",
   "execution_count": 1,
   "metadata": {},
   "outputs": [],
   "source": [
    "f = open('some_file.txt', 'r', encoding=\"utf-8\")"
   ]
  },
  {
   "cell_type": "markdown",
   "metadata": {},
   "source": [
    "У функции ```open``` много параметров, но нам пока важны 3 аргумента.\n",
    "\n",
    "Первый, это имя файла. Путь к файлу может быть относительным или абсолютным."
   ]
  },
  {
   "cell_type": "code",
   "execution_count": 5,
   "metadata": {},
   "outputs": [],
   "source": [
    "local_path = 'some_file.txt'\n",
    "absolute_path = 'C:\\my-files\\some_file.txt'"
   ]
  },
  {
   "cell_type": "markdown",
   "metadata": {},
   "source": [
    "Второй аргумент, это режим, в котором мы будем открывать файл.\n",
    "\n",
    "Список режимов:\n",
    "| Режим    | Обозначение |\n",
    "|----------|----------|\n",
    "| 'r'    | открытие на чтение (является значением по умолчанию)   |\n",
    "| 'w'    | открытие на запись, содержимое файла удаляется, если файла не существует, создается новый   |\n",
    "| 'x'    | открытие на запись, если файла не существует, иначе исключение   |\n",
    "| 'a'    | открытие на дозапись, информация добавляется в конец файла   |\n",
    "| 'b'    | открытие в двоичном режиме   |\n",
    "| 't'    | открытие в текстовом режиме (является значением по умолчанию)   |\n",
    "| '+'    | открытие на чтение и запись   |\n"
   ]
  },
  {
   "cell_type": "markdown",
   "metadata": {},
   "source": [
    "Режимы могут быть объединены, то есть, к примеру, 'rb' - чтение в двоичном режиме. По умолчанию режим равен 'rt'. И последний аргумент, encoding, нужен только в текстовом режиме чтения файла. Этот аргумент задает кодировку."
   ]
  },
  {
   "cell_type": "markdown",
   "metadata": {},
   "source": [
    "## Чтение из файла"
   ]
  },
  {
   "cell_type": "markdown",
   "metadata": {},
   "source": [
    "После открытия файла теперь надо прочитать из него информацию. Для этого есть\n",
    "несколько способов, но большого интереса заслуживают лишь два из них.\n",
    "\n",
    "Первый - метод ```read```, читающий весь файл целиком, если был вызван без\n",
    "аргументов, и $n$ символов, если был вызван с аргументом (целым числом $n$)."
   ]
  },
  {
   "cell_type": "code",
   "execution_count": 4,
   "metadata": {},
   "outputs": [
    {
     "data": {
      "text/plain": [
       "'ро'"
      ]
     },
     "execution_count": 4,
     "metadata": {},
     "output_type": "execute_result"
    }
   ],
   "source": [
    "f.read(2)"
   ]
  },
  {
   "cell_type": "markdown",
   "metadata": {},
   "source": [
    "Если часть символов из файл уже считали, то дальше  чтение продолжится со следующего символа"
   ]
  },
  {
   "cell_type": "code",
   "execution_count": 6,
   "metadata": {},
   "outputs": [
    {
     "data": {
      "text/plain": [
       "'жу ли я вдоль улиц шумных,\\nВхожу ль во многолюдный храм,\\nСижу ль меж юношей безумных,\\nЯ предаюсь моим мечтам.\\n'"
      ]
     },
     "execution_count": 6,
     "metadata": {},
     "output_type": "execute_result"
    }
   ],
   "source": [
    "f.read()"
   ]
  },
  {
   "cell_type": "markdown",
   "metadata": {},
   "source": [
    "Ещё один способ сделать это - прочитать файл построчно, воспользовавшись циклом\n",
    "for. \n",
    "\n",
    "\n",
    "Отметим, что так как мы уже прочитали весь файл, открытый ранее, надо будет его переоткрыть.\n"
   ]
  },
  {
   "cell_type": "code",
   "execution_count": 8,
   "metadata": {},
   "outputs": [
    {
     "name": "stdout",
     "output_type": "stream",
     "text": [
      "Брожу ли я вдоль улиц шумных,\n",
      "\n",
      "Вхожу ль во многолюдный храм,\n",
      "\n",
      "Сижу ль меж юношей безумных,\n",
      "\n",
      "Я предаюсь моим мечтам.\n",
      "\n"
     ]
    }
   ],
   "source": [
    "f = open('some_file.txt', encoding=\"utf-8\")\n",
    "for line in f:\n",
    "    print(line)"
   ]
  },
  {
   "cell_type": "markdown",
   "metadata": {},
   "source": [
    "Есть ещё метод ```readline```, позволяющий считывать не поэлементно, а построчно (то есть как в цикле for)"
   ]
  },
  {
   "cell_type": "code",
   "execution_count": 11,
   "metadata": {},
   "outputs": [
    {
     "name": "stdout",
     "output_type": "stream",
     "text": [
      "Брожу ли я вдоль улиц шумных,\n",
      "\n",
      "Вхожу ль во многолюдный храм,\n",
      "\n"
     ]
    }
   ],
   "source": [
    "f = open('some_file.txt', encoding=\"utf-8\")\n",
    "l1 = f.readline()\n",
    "print(l1)\n",
    "\n",
    "l2 = f.readline()\n",
    "print(l2)"
   ]
  },
  {
   "cell_type": "markdown",
   "metadata": {},
   "source": [
    "## Запись в файл"
   ]
  },
  {
   "cell_type": "markdown",
   "metadata": {},
   "source": [
    "Теперь рассмотрим запись в файл. Попробуем записать в файл вот такой вот список:"
   ]
  },
  {
   "cell_type": "code",
   "execution_count": 12,
   "metadata": {},
   "outputs": [
    {
     "data": {
      "text/plain": [
       "['0-1', '10', '21', '32', '43', '54', '65', '76', '87', '98']"
      ]
     },
     "execution_count": 12,
     "metadata": {},
     "output_type": "execute_result"
    }
   ],
   "source": [
    "l = [str(i)+str(i-1) for i in range(10)]\n",
    "l"
   ]
  },
  {
   "cell_type": "markdown",
   "metadata": {},
   "source": [
    "Откроем файл  digits.txt на запись. Этот файл может и не существовать, тогда будет создан новый файл. Если файт с таким именем уже существует, то он будет перезаписан."
   ]
  },
  {
   "cell_type": "code",
   "execution_count": 15,
   "metadata": {},
   "outputs": [],
   "source": [
    "f = open('digits.txt', 'w')\n",
    "for index in l:\n",
    "    f.write(index + '\\n')"
   ]
  },
  {
   "cell_type": "markdown",
   "metadata": {},
   "source": [
    "При этом метод write после записи информации в файл возвращает число записанных\n",
    "символов"
   ]
  },
  {
   "cell_type": "markdown",
   "metadata": {},
   "source": [
    "После окончания работы с файлом его обязательно нужно закрыть с помощью метода ```close```."
   ]
  },
  {
   "cell_type": "code",
   "execution_count": 16,
   "metadata": {},
   "outputs": [],
   "source": [
    "f.close()"
   ]
  },
  {
   "cell_type": "markdown",
   "metadata": {},
   "source": [
    "Теперь попробуем прочитать этот список из получившегося файла и прочитаем строки.\n",
    "\n",
    "Для этого понадобится функция line.strip(), которая разделит строку в список по разделителям. Разделитель по умолчанию - пробел."
   ]
  },
  {
   "cell_type": "code",
   "execution_count": 17,
   "metadata": {},
   "outputs": [
    {
     "data": {
      "text/plain": [
       "['0-1', '10', '21', '32', '43', '54', '65', '76', '87', '98']"
      ]
     },
     "execution_count": 17,
     "metadata": {},
     "output_type": "execute_result"
    }
   ],
   "source": [
    "f = open('digits.txt', 'r')\n",
    "l = [line.strip() for line in f]\n",
    "l"
   ]
  },
  {
   "cell_type": "markdown",
   "metadata": {},
   "source": [
    "В файл можно записать словари, кортежи и любые другие структуры данных. Для этого понадобится Numpy.\n",
    "Расширение у файла будет npy."
   ]
  },
  {
   "cell_type": "code",
   "execution_count": 21,
   "metadata": {},
   "outputs": [],
   "source": [
    "import numpy as np\n",
    "\n",
    "# созданим какой-нибудь словарь\n",
    "dct = {'key1':[\"valu10\", \"valu11\", \"valu12\"],\n",
    "     'key2': 3,\n",
    "      'key3': \"value3\"}\n",
    "\n",
    "np.save('my_dictionary', dct) \n"
   ]
  },
  {
   "cell_type": "code",
   "execution_count": 24,
   "metadata": {},
   "outputs": [
    {
     "name": "stdout",
     "output_type": "stream",
     "text": [
      "{'key1': ['valu10', 'valu11', 'valu12'], 'key2': 3, 'key3': 'value3'}\n",
      "['valu10', 'valu11', 'valu12']\n"
     ]
    }
   ],
   "source": [
    "# А теперь читаем словарь из файла\n",
    "my_read_dictionary = np.load('my_dictionary.npy',allow_pickle='TRUE').item()\n",
    "\n",
    "# отобразим весь словарь\n",
    "print(my_read_dictionary) \n",
    "\n",
    "print(my_read_dictionary['key1']) # отобразим значения под ключам key1"
   ]
  },
  {
   "cell_type": "markdown",
   "metadata": {},
   "source": [
    "Записывать и считывать из файла можно любую структуру. Для этого понадобится библиотека picle"
   ]
  },
  {
   "cell_type": "code",
   "execution_count": 25,
   "metadata": {},
   "outputs": [],
   "source": [
    "import pickle \n",
    "\n",
    "# записываем\n",
    "with open('saved_dictionary.pkl', 'wb') as f:\n",
    "    pickle.dump(dct, f)\n",
    "        \n"
   ]
  },
  {
   "cell_type": "code",
   "execution_count": 26,
   "metadata": {},
   "outputs": [],
   "source": [
    "# считываем\n",
    "with open('saved_dictionary.pkl', 'rb') as f:\n",
    "    loaded_dict = pickle.load(f)"
   ]
  },
  {
   "cell_type": "code",
   "execution_count": 27,
   "metadata": {},
   "outputs": [
    {
     "name": "stdout",
     "output_type": "stream",
     "text": [
      "['valu10', 'valu11', 'valu12']\n"
     ]
    }
   ],
   "source": [
    "print(loaded_dict['key1']) # отобразим значения под ключам key1"
   ]
  },
  {
   "cell_type": "markdown",
   "metadata": {},
   "source": [
    "Ура, всё получилось!\n",
    "\n",
    "На этом моменте вы теперь знаете базовый инструментарий работы с файлами в Python"
   ]
  },
  {
   "cell_type": "markdown",
   "metadata": {},
   "source": []
  }
 ],
 "metadata": {
  "kernelspec": {
   "display_name": "Python 3",
   "language": "python",
   "name": "python3"
  },
  "language_info": {
   "codemirror_mode": {
    "name": "ipython",
    "version": 3
   },
   "file_extension": ".py",
   "mimetype": "text/x-python",
   "name": "python",
   "nbconvert_exporter": "python",
   "pygments_lexer": "ipython3",
   "version": "3.10.10"
  }
 },
 "nbformat": 4,
 "nbformat_minor": 2
}
